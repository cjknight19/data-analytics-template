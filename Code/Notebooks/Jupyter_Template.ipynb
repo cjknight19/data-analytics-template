{
 "cells": [
  {
   "cell_type": "markdown",
   "id": "bcdb9f46",
   "metadata": {},
   "source": [
    "# Project name\n",
    "# Connor Knight\n",
    "# Date"
   ]
  },
  {
   "cell_type": "markdown",
   "id": "550b2f94",
   "metadata": {},
   "source": [
    "Import libraries"
   ]
  },
  {
   "cell_type": "code",
   "execution_count": null,
   "id": "3b914d77",
   "metadata": {},
   "outputs": [],
   "source": [
    "import pandas as pd"
   ]
  }
 ],
 "metadata": {
  "kernelspec": {
   "display_name": "Python 3 (ipykernel)",
   "language": "python",
   "name": "python3"
  },
  "language_info": {
   "codemirror_mode": {
    "name": "ipython",
    "version": 3
   },
   "file_extension": ".py",
   "mimetype": "text/x-python",
   "name": "python",
   "nbconvert_exporter": "python",
   "pygments_lexer": "ipython3",
   "version": "3.11.4"
  }
 },
 "nbformat": 4,
 "nbformat_minor": 5
}
